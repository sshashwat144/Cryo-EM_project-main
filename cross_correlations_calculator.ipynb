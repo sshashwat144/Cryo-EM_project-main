{
 "cells": [
  {
   "cell_type": "code",
   "execution_count": 2,
   "metadata": {},
   "outputs": [],
   "source": [
    "def apply_pca(image, n_components):\n",
    "    import numpy as np\n",
    "    from sklearn.decomposition import TruncatedSVD\n",
    "    pca = TruncatedSVD(n_components=n_components)\n",
    "    image = image - (np.mean(image))\n",
    "    transformed_image = pca.fit_transform(image)\n",
    "    return transformed_image"
   ]
  },
  {
   "cell_type": "code",
   "execution_count": 3,
   "metadata": {},
   "outputs": [],
   "source": [
    "\n",
    "def load_MRC(file_path):\n",
    "    import mrcfile \n",
    "    with mrcfile.open(file_path) as mrc:\n",
    "        a= mrc.data\n",
    "\n",
    "    return a"
   ]
  },
  {
   "cell_type": "code",
   "execution_count": 4,
   "metadata": {},
   "outputs": [],
   "source": [
    "def main():\n",
    "    import numpy as np\n",
    "    print(\"can we even print\")\n",
    "    enter = input(\"Image: \")\n",
    "    enter1 = input(\"Templates: \")\n",
    "    comp_num = int(input(\"Number of Components: \"))\n",
    "    print(\"here?\")\n",
    "    image = load_MRC(enter)\n",
    "    if(len(image.shape) ==3):\n",
    "        image = image[0]\n",
    "    templates = load_MRC(enter1)\n",
    "    \n",
    "    #Apply PCA\n",
    "    A=np.reshape(templates,(templates.shape[1] **2, templates.shape[0]))\n",
    "    after_PCA = apply_pca(A, comp_num)\n",
    "    print(after_PCA.shape)\n",
    "    \n",
    "    toReturn = np.reshape(after_PCA, (comp_num, templates.shape[1], templates.shape[1]))\n",
    "    \n",
    "    print(\"here\")\n",
    "    \n",
    "    toWrite = np.zeros((comp_num, image.shape[0], image.shape[1]))\n",
    "    for i in range(comp_num):\n",
    "        print(\"1\")\n",
    "        padded = padTemplate(image, toReturn[i])\n",
    "        print(\"2\")\n",
    "        toWrite[i] = corrCalc(image, padded)\n",
    "        print(i)\n",
    "        \n",
    "    write_MRC(toWrite)\n",
    "    "
   ]
  },
  {
   "cell_type": "code",
   "execution_count": 5,
   "metadata": {},
   "outputs": [],
   "source": [
    "from scipy import signal\n",
    "import matplotlib.pyplot as plt"
   ]
  },
  {
   "cell_type": "code",
   "execution_count": 6,
   "metadata": {},
   "outputs": [],
   "source": [
    "def write_MRC(toWrite):\n",
    "    import numpy as np\n",
    "    import mrcfile\n",
    "    with mrcfile.new(\"pleasework.mrc\", overwrite=True) as mrc: \n",
    "\n",
    "\n",
    "        mrc._set_voxel_size(1.5, 1.5, 1.5)\n",
    "\n",
    "\n",
    "        mrc.set_data(toWrite)\n",
    "\n",
    "    \n",
    "\n",
    "\n",
    "\n",
    "\n",
    "    mrc.close()"
   ]
  },
  {
   "cell_type": "code",
   "execution_count": 7,
   "metadata": {},
   "outputs": [
    {
     "data": {
      "text/plain": [
       "(2864, 4032)"
      ]
     },
     "execution_count": 7,
     "metadata": {},
     "output_type": "execute_result"
    }
   ],
   "source": [
    "t = load_MRC(\"00038_1_0.mrc\")\n",
    "t.shape\n",
    "t = t[0]\n",
    "t.shape"
   ]
  },
  {
   "cell_type": "code",
   "execution_count": 8,
   "metadata": {},
   "outputs": [
    {
     "data": {
      "text/plain": [
       "(17, 128, 128)"
      ]
     },
     "execution_count": 8,
     "metadata": {},
     "output_type": "execute_result"
    }
   ],
   "source": [
    "s = load_MRC(\"small_ribosome.mrc\")\n",
    "s.shape"
   ]
  },
  {
   "cell_type": "code",
   "execution_count": 9,
   "metadata": {},
   "outputs": [],
   "source": [
    "def padTemplate(image, template):\n",
    "    import numpy as np\n",
    "    return np.pad(template, [(0, image.shape[0] - template.shape[0]), (0, image.shape[1] - template.shape[1])] , mode = 'constant')\n",
    "    "
   ]
  },
  {
   "cell_type": "code",
   "execution_count": 10,
   "metadata": {},
   "outputs": [],
   "source": [
    "def corrCalc(image, template):\n",
    "    print(\"3\")\n",
    "    # from scipy import signal\n",
    "    # import matplotlib.pyplot as plt\n",
    "    plt.figure\n",
    "    plt.imshow(template)\n",
    "    plt.figure\n",
    "    plt.imshow(image)\n",
    "    print(template.shape)\n",
    "    print(image.shape)\n",
    "    corr = signal.correlate2d(image, template, boundary='symm', mode='same')\n",
    "    return corr\n"
   ]
  },
  {
   "cell_type": "code",
   "execution_count": 11,
   "metadata": {},
   "outputs": [
    {
     "name": "stdout",
     "output_type": "stream",
     "text": [
      "can we even print\n",
      "here?\n",
      "(16384, 5)\n",
      "here\n",
      "1\n",
      "2\n",
      "3\n",
      "(2864, 4032)\n",
      "(2864, 4032)\n"
     ]
    }
   ],
   "source": [
    "main()"
   ]
  },
  {
   "cell_type": "code",
   "execution_count": null,
   "metadata": {},
   "outputs": [],
   "source": [
    "#psi theta phi\n",
    "#reconstruct those 92\n",
    "\n"
   ]
  },
  {
   "cell_type": "code",
   "execution_count": null,
   "metadata": {},
   "outputs": [],
   "source": []
  }
 ],
 "metadata": {
  "kernelspec": {
   "display_name": "Cryo-EM_project",
   "language": "python",
   "name": "python3"
  },
  "language_info": {
   "codemirror_mode": {
    "name": "ipython",
    "version": 3
   },
   "file_extension": ".py",
   "mimetype": "text/x-python",
   "name": "python",
   "nbconvert_exporter": "python",
   "pygments_lexer": "ipython3",
   "version": "3.1.-1"
  }
 },
 "nbformat": 4,
 "nbformat_minor": 2
}
