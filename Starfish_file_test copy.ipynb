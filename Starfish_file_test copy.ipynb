{
 "cells": [
  {
   "cell_type": "code",
   "execution_count": 4,
   "metadata": {},
   "outputs": [
    {
     "data": {
      "text/html": [
       "<div>\n",
       "<style scoped>\n",
       "    .dataframe tbody tr th:only-of-type {\n",
       "        vertical-align: middle;\n",
       "    }\n",
       "\n",
       "    .dataframe tbody tr th {\n",
       "        vertical-align: top;\n",
       "    }\n",
       "\n",
       "    .dataframe thead th {\n",
       "        text-align: right;\n",
       "    }\n",
       "</style>\n",
       "<table border=\"1\" class=\"dataframe\">\n",
       "  <thead>\n",
       "    <tr style=\"text-align: right;\">\n",
       "      <th></th>\n",
       "    </tr>\n",
       "    <tr>\n",
       "      <th>0.343405   0.000000</th>\n",
       "    </tr>\n",
       "  </thead>\n",
       "  <tbody>\n",
       "    <tr>\n",
       "      <th>0.000000   2.500000</th>\n",
       "    </tr>\n",
       "    <tr>\n",
       "      <th>60.000000   2.500000</th>\n",
       "    </tr>\n",
       "    <tr>\n",
       "      <th>120.000000   2.500000</th>\n",
       "    </tr>\n",
       "    <tr>\n",
       "      <th>180.000000   2.500000</th>\n",
       "    </tr>\n",
       "    <tr>\n",
       "      <th>240.000000   2.500000</th>\n",
       "    </tr>\n",
       "  </tbody>\n",
       "</table>\n",
       "</div>"
      ],
      "text/plain": [
       "Empty DataFrame\n",
       "Columns: []\n",
       "Index: [  0.000000   2.500000,  60.000000   2.500000, 120.000000   2.500000, 180.000000   2.500000, 240.000000   2.500000]"
      ]
     },
     "execution_count": 4,
     "metadata": {},
     "output_type": "execute_result"
    }
   ],
   "source": [
    "# import starfish\n",
    "# example_netcdf_file: str = \".nc\"\n",
    "# intensity_table: starfish.IntensityTable = starfish.IntensityTable.open_netcdf(example_netcdf_file)\n",
    "# print(intensity_table)\n",
    "\n",
    "#OR\n",
    "import pandas as pd\n",
    "example_decoded_spots_file: str = \"~/Project_cisTEM/StaFileGen'/set_of_all_angles.txt\"\n",
    "table: pd.DataFrame= pd.read_csv(example_decoded_spots_file, index_col=0)\n",
    "table.head()"
   ]
  },
  {
   "cell_type": "code",
   "execution_count": null,
   "metadata": {},
   "outputs": [],
   "source": [
    "#psi: 1-360 for each theta-phi"
   ]
  },
  {
   "cell_type": "code",
   "execution_count": null,
   "metadata": {},
   "outputs": [],
   "source": [
    "table.iloc[1]"
   ]
  },
  {
   "cell_type": "code",
   "execution_count": null,
   "metadata": {},
   "outputs": [],
   "source": [
    "\n",
    "df = pd.read_csv( \"~/Project_cisTEM/StaFileGen'/set_of_all_angles.txt\")\n",
    "print(df.shape)\n",
    "print(df.head())\n",
    "df[[\"THETA\", 'PHI']] = df[[]].str.split(' ', expand=True)\n",
    "\n",
    "print(df.shape)\n",
    "\n",
    "\n",
    "df.head()"
   ]
  },
  {
   "cell_type": "code",
   "execution_count": 4,
   "metadata": {},
   "outputs": [
    {
     "name": "stdout",
     "output_type": "stream",
     "text": [
      "(6619, 6)\n"
     ]
    },
    {
     "data": {
      "text/html": [
       "<div>\n",
       "<style scoped>\n",
       "    .dataframe tbody tr th:only-of-type {\n",
       "        vertical-align: middle;\n",
       "    }\n",
       "\n",
       "    .dataframe tbody tr th {\n",
       "        vertical-align: top;\n",
       "    }\n",
       "\n",
       "    .dataframe thead th {\n",
       "        text-align: right;\n",
       "    }\n",
       "</style>\n",
       "<table border=\"1\" class=\"dataframe\">\n",
       "  <thead>\n",
       "    <tr style=\"text-align: right;\">\n",
       "      <th></th>\n",
       "      <th>Unnamed: 0</th>\n",
       "      <th>Unnamed: 1</th>\n",
       "      <th>0.343405</th>\n",
       "      <th>Unnamed: 3</th>\n",
       "      <th>Unnamed: 4</th>\n",
       "      <th>0.000000</th>\n",
       "    </tr>\n",
       "  </thead>\n",
       "  <tbody>\n",
       "    <tr>\n",
       "      <th>0</th>\n",
       "      <td>NaN</td>\n",
       "      <td>NaN</td>\n",
       "      <td>0.0</td>\n",
       "      <td>NaN</td>\n",
       "      <td>NaN</td>\n",
       "      <td>2.5</td>\n",
       "    </tr>\n",
       "    <tr>\n",
       "      <th>1</th>\n",
       "      <td>NaN</td>\n",
       "      <td>60.0</td>\n",
       "      <td>NaN</td>\n",
       "      <td>NaN</td>\n",
       "      <td>2.5</td>\n",
       "      <td>NaN</td>\n",
       "    </tr>\n",
       "    <tr>\n",
       "      <th>2</th>\n",
       "      <td>120.0</td>\n",
       "      <td>NaN</td>\n",
       "      <td>NaN</td>\n",
       "      <td>2.5</td>\n",
       "      <td>NaN</td>\n",
       "      <td>NaN</td>\n",
       "    </tr>\n",
       "    <tr>\n",
       "      <th>3</th>\n",
       "      <td>180.0</td>\n",
       "      <td>NaN</td>\n",
       "      <td>NaN</td>\n",
       "      <td>2.5</td>\n",
       "      <td>NaN</td>\n",
       "      <td>NaN</td>\n",
       "    </tr>\n",
       "    <tr>\n",
       "      <th>4</th>\n",
       "      <td>240.0</td>\n",
       "      <td>NaN</td>\n",
       "      <td>NaN</td>\n",
       "      <td>2.5</td>\n",
       "      <td>NaN</td>\n",
       "      <td>NaN</td>\n",
       "    </tr>\n",
       "  </tbody>\n",
       "</table>\n",
       "</div>"
      ],
      "text/plain": [
       "   Unnamed: 0  Unnamed: 1  0.343405  Unnamed: 3  Unnamed: 4  0.000000\n",
       "0         NaN         NaN       0.0         NaN         NaN       2.5\n",
       "1         NaN        60.0       NaN         NaN         2.5       NaN\n",
       "2       120.0         NaN       NaN         2.5         NaN       NaN\n",
       "3       180.0         NaN       NaN         2.5         NaN       NaN\n",
       "4       240.0         NaN       NaN         2.5         NaN       NaN"
      ]
     },
     "execution_count": 4,
     "metadata": {},
     "output_type": "execute_result"
    }
   ],
   "source": [
    "df = pd.read_csv( \"~/Project_cisTEM/StaFileGen'/set_of_all_angles.txt\", sep=' ')\n",
    "print(df.shape)\n",
    "\n",
    "\n",
    "\n",
    "df.head()"
   ]
  },
  {
   "cell_type": "code",
   "execution_count": null,
   "metadata": {},
   "outputs": [],
   "source": [
    "newdf = pandas.df()\n",
    "i = 0\n",
    "while i <= 360:\n",
    "    \n",
    "    \n",
    "    \n",
    "    i+=1.5"
   ]
  },
  {
   "cell_type": "code",
   "execution_count": 2,
   "metadata": {},
   "outputs": [
    {
     "data": {
      "text/plain": [
       "0.343405"
      ]
     },
     "execution_count": 2,
     "metadata": {},
     "output_type": "execute_result"
    }
   ],
   "source": [
    "#try using numpy arrays\n",
    "import numpy as np\n",
    "\n",
    "again = np.loadtxt(\"StaFileGen'/set_of_all_angles.txt\")\n",
    "again[0][0]"
   ]
  },
  {
   "cell_type": "code",
   "execution_count": 3,
   "metadata": {},
   "outputs": [
    {
     "data": {
      "text/plain": [
       "array([0.343405, 0.      ])"
      ]
     },
     "execution_count": 3,
     "metadata": {},
     "output_type": "execute_result"
    }
   ],
   "source": [
    "again.shape\n",
    "again[0]"
   ]
  },
  {
   "cell_type": "code",
   "execution_count": null,
   "metadata": {},
   "outputs": [],
   "source": [
    "#    POS     PSI   THETA     PHI       SHX       SHY      DF1      DF2  ANGAST  PSHIFT  STAT     OCC      LogP      SIGMA   SCORE  CHANGE    PSIZE    VOLT      Cs    AmpC  BTILTX  BTILTY  ISHFTX  ISHFTY \n",
    "#       1   66.00   77.50    5.00      0.00      0.00  0.0  0.0  0.0    0.00     1    1.00      0.00    0.0000   0.00    0.00  1.50000  300.00    2.70  0.0700   0.000   0.000   0.000   0.000 \n",
    "#        0    1       2        3      4          5      6    7     8      9     10     11         12      13      14      15     16      17        18     19      20       21      22     23"
   ]
  },
  {
   "cell_type": "code",
   "execution_count": 5,
   "metadata": {},
   "outputs": [
    {
     "name": "stdout",
     "output_type": "stream",
     "text": [
      "6620\n",
      "1595420.0\n"
     ]
    }
   ],
   "source": [
    "print(again.shape[0])\n",
    "\n",
    "psi_inc = 1.5\n",
    "psi_max = 360\n",
    "psi_num = psi_max/psi_inc +1\n",
    "cols = again.shape[0] * psi_num\n",
    "print(cols)\n",
    "cols = int(cols)\n",
    "newArr = np.zeros([cols, 24])\n",
    "\n",
    "for i in range(cols):\n",
    "\n",
    "    newArr[i][0] = i +1 #position\n",
    "    newArr[i][1] = (i *1.5) % 360 #psi\n",
    "    newArr[i][2] = again[int((i // psi_num))][0] #theta\n",
    "    newArr[i][3] = again[int((i // psi_num))][1] #Phi\n",
    "    newArr[i][10] = 1 #pshift\n",
    "    newArr[i][11] = 1.00 #stat\n",
    "    newArr[i][16] = 1.5 #pixel size\n",
    "    newArr[i][17] = 300.00 # volt\n",
    "    newArr[i][18] = 2.70 #cs\n",
    "    newArr[i][19] = .0700 #ampc\n",
    "    \n",
    "    \n",
    "\n"
   ]
  },
  {
   "cell_type": "code",
   "execution_count": 6,
   "metadata": {},
   "outputs": [
    {
     "data": {
      "text/plain": [
       "array([1.00000e+00, 0.00000e+00, 3.43405e-01, 0.00000e+00, 0.00000e+00,\n",
       "       0.00000e+00, 0.00000e+00, 0.00000e+00, 0.00000e+00, 0.00000e+00,\n",
       "       1.00000e+00, 1.00000e+00, 0.00000e+00, 0.00000e+00, 0.00000e+00,\n",
       "       0.00000e+00, 1.50000e+00, 3.00000e+02, 2.70000e+00, 7.00000e-02,\n",
       "       0.00000e+00, 0.00000e+00, 0.00000e+00, 0.00000e+00])"
      ]
     },
     "execution_count": 6,
     "metadata": {},
     "output_type": "execute_result"
    }
   ],
   "source": [
    "newArr[0]"
   ]
  },
  {
   "cell_type": "code",
   "execution_count": 7,
   "metadata": {},
   "outputs": [],
   "source": [
    "#write to a file\n",
    "f = open(\"new_star.star\", \"w\")\n"
   ]
  },
  {
   "cell_type": "code",
   "execution_count": 36,
   "metadata": {},
   "outputs": [],
   "source": [
    "toWrite = \"# Written by Shashwat on 2024-06-19\" + '\\n'  + '\\n'\n",
    "toWrite += \"data_\" + '\\n' + '\\n' + 'loop' + '\\n'\n",
    "toWrite += \"_cisTEMPositionInStack #1\" + '\\n' + \"cisTEMAnglePsi #2 \"+ '\\n' + \"cisTEMAngleTheta #3\"+ '\\n' + \"cisTEMAnglePhi #4\"+ '\\n' + \"cisTEMXShift #5\"+ '\\n' + \"cisTEMYShift #6 \"+ '\\n' + \"cisTEMPixelSize #7\" + '\\n' \n",
    "toWrite += \"#    POS     PSI   THETA     PHI       SHX       SHY      PSIZE\" + '\\n'"
   ]
  },
  {
   "cell_type": "code",
   "execution_count": 8,
   "metadata": {},
   "outputs": [],
   "source": [
    "f = open(\"new_star.star\", \"a\")\n",
    "np.savetxt(\"new_star.star\", newArr, delimiter=' ', fmt='%i %f %f %f %f %f %f %f %f %f %i %f %f %f %f %f %f %f %f %f %f %f %f %f')\n",
    "#f.write(toWrite)\n",
    "\n",
    "\n",
    "f.close()"
   ]
  },
  {
   "cell_type": "code",
   "execution_count": null,
   "metadata": {},
   "outputs": [],
   "source": [
    "#    POS     PSI   THETA     PHI       SHX       SHY      DF1      DF2  ANGAST  PSHIFT  STAT     OCC      LogP      SIGMA   SCORE  CHANGE    PSIZE    VOLT      Cs    AmpC  BTILTX  BTILTY  ISHFTX  ISHFTY \n",
    "#       1   66.00   77.50    5.00      0.00      0.00  0.0  0.0  0.0    0.00     1    1.00      0.00    0.0000   0.00    0.00  1.50000  300.00    2.70  0.0700   0.000   0.000   0.000   0.000 \n",
    "#        0    1       2        3      4          5      6    7     8      9     10     11         12      13      14      15     16      17        18     19      20       21      22     23"
   ]
  }
 ],
 "metadata": {
  "kernelspec": {
   "display_name": "Python 3",
   "language": "python",
   "name": "python3"
  },
  "language_info": {
   "codemirror_mode": {
    "name": "ipython",
    "version": 3
   },
   "file_extension": ".py",
   "mimetype": "text/x-python",
   "name": "python",
   "nbconvert_exporter": "python",
   "pygments_lexer": "ipython3",
   "version": "3.11.0"
  }
 },
 "nbformat": 4,
 "nbformat_minor": 2
}
