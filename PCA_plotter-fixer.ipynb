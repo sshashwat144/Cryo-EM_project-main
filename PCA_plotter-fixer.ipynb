{
 "cells": [
  {
   "cell_type": "code",
   "execution_count": 29,
   "metadata": {},
   "outputs": [],
   "source": [
    "def Main():\n",
    "    \n",
    "    toRead = input(\"Text file to Plot:\")\n",
    "    \n",
    "    arr = Read_File(toRead)\n",
    "    \n",
    "    Write_to_File(arr, \"again\")"
   ]
  },
  {
   "cell_type": "code",
   "execution_count": 4,
   "metadata": {},
   "outputs": [],
   "source": [
    "\n",
    "def Read_File(toRead):\n",
    "        #try using numpy arrays\n",
    "    import numpy as np\n",
    "    \n",
    "\n",
    "    again = np.loadtxt(toRead, skiprows=1)\n",
    "    \n",
    "    return again\n",
    "    \n",
    "    \n",
    "    # import pandas as pd\n",
    "    # df = pd.read_csv( toRead)\n",
    "    # print(df.shape)\n",
    "    \n",
    "    # table: pd.DataFrame= df\n",
    "    # return table\n",
    "    "
   ]
  },
  {
   "cell_type": "code",
   "execution_count": null,
   "metadata": {},
   "outputs": [],
   "source": [
    "# def display(arr):\n",
    "#     # print(arr)\n",
    "    # arr.plot(x = \"Number_of_Components\", y = \"MSE\")\n",
    "    # arr.plot(x = \"Number_of_Components\", y = \"SSIM\")\n",
    "    # arr.plot(x = \"Number_of_Components\", y = \"Explained_Variance\")\n",
    "        \n",
    "def display(arr):\n",
    "    import matplotlib.pyplot as plt\n",
    "    import numpy as np\n",
    "    arr = np.transpose(arr)\n",
    "    plt.figure()\n",
    "    plt.plot(arr[0], arr[1])\n",
    "    plt.title(\"MSE Plot\")\n",
    "    plt.xlabel(\"Components\")\n",
    "    plt.ylabel(\"MSE\")\n",
    "    \n",
    "    \n",
    "    plt.figure()\n",
    "    plt.plot(arr[0], arr[2])\n",
    "    plt.title(\"SSIM Plot\")\n",
    "    plt.xlabel(\"Components\")\n",
    "    plt.ylabel(\"SSIM\")\n",
    "    \n",
    "    \n",
    "    plt.figure()\n",
    "    plt.plot(arr[0], arr[3])\n",
    "    plt.title(\"Explained Variance Plot\")\n",
    "    plt.xlabel(\"Components\")\n",
    "    plt.ylabel(\"Explained Variance\")\n",
    "    "
   ]
  },
  {
   "cell_type": "code",
   "execution_count": null,
   "metadata": {},
   "outputs": [],
   "source": [
    "import matplotlib.pyplot as plt\n",
    "import numpy as np\n",
    "arr = Read_File(\"testing.txt\")    \n",
    "arr = np.transpose(arr)\n",
    "print(arr[0])\n",
    "print(arr[1])\n",
    "plt.figure()\n",
    "plt.plot(arr[0], arr[1])\n",
    "plt.title(\"MSE Plot\")\n",
    "plt.xlabel(\"Components\")\n",
    "plt.ylabel(\"MSE\")\n",
    "plt.show()"
   ]
  },
  {
   "cell_type": "code",
   "execution_count": 30,
   "metadata": {},
   "outputs": [],
   "source": [
    "Main()\n"
   ]
  },
  {
   "cell_type": "code",
   "execution_count": null,
   "metadata": {},
   "outputs": [],
   "source": [
    "\n",
    "# import pandas as pd\n",
    "# df = pd.read_csv(\"testing.txt\", sep = \" \")\n",
    "# print(df.shape)\n",
    "    \n",
    "# table: pd.DataFrame= df\n",
    "# table\n",
    "\n",
    "# cols1, cols2 = table.Number_of_Components.str.split(expand=True)\n",
    "    "
   ]
  },
  {
   "cell_type": "code",
   "execution_count": 28,
   "metadata": {},
   "outputs": [],
   "source": [
    "def Write_to_File(arr, folder_name):\n",
    "    import os\n",
    "    import matplotlib.pyplot as plt\n",
    "    import numpy as np\n",
    "    \n",
    "\n",
    "\n",
    "    newpath = r'/home/useradmin/Project_cisTEM/' + folder_name\n",
    "    if not os.path.exists(newpath):\n",
    "        os.makedirs(newpath)\n",
    "    \n",
    "    arr = np.transpose(arr)\n",
    "    # plt.figure()\n",
    "    plt.plot(arr[0], arr[1])\n",
    "    plt.title(\"MSE Plot\")\n",
    "    plt.xlabel(\"Components\")\n",
    "    plt.ylabel(\"MSE\")\n",
    "    \n",
    "    plt.savefig(\"MSE Plot.png\")\n",
    "    plt.close()\n",
    "    os.rename(\"MSE Plot.png\" , folder_name + \"/MSE Plot.png\")\n",
    "    # plt.figure()\n",
    "    plt.plot(arr[0], arr[2])\n",
    "    plt.title(\"SSIM Plot\")\n",
    "    plt.xlabel(\"Components\")\n",
    "    plt.ylabel(\"SSIM\")\n",
    "    \n",
    "    plt.savefig(\"SSIM Plot.png\")\n",
    "    plt.close()\n",
    "    os.rename(\"SSIM Plot.png\" , folder_name + \"/SSIM Plot.png\")\n",
    "    # plt.figure()\n",
    "    plt.plot(arr[0], arr[3])\n",
    "    plt.title(\"Explained Variance Plot\")\n",
    "    plt.xlabel(\"Components\")\n",
    "    plt.ylabel(\"Explained Variance\")\n",
    "    \n",
    "    plt.savefig(\"Explained Variance Plot.png\")\n",
    "    plt.close()\n",
    "    os.rename(\"Explained Variance Plot.png\" , folder_name + \"/Explained Variance Plot.png\")"
   ]
  },
  {
   "cell_type": "code",
   "execution_count": 26,
   "metadata": {},
   "outputs": [],
   "source": [
    "Write_to_File(Read_File(\"testing.txt\"), \"testing folder\")"
   ]
  }
 ],
 "metadata": {
  "kernelspec": {
   "display_name": "Cryo-EM_project",
   "language": "python",
   "name": "python3"
  },
  "language_info": {
   "codemirror_mode": {
    "name": "ipython",
    "version": 3
   },
   "file_extension": ".py",
   "mimetype": "text/x-python",
   "name": "python",
   "nbconvert_exporter": "python",
   "pygments_lexer": "ipython3",
   "version": "3.11.0"
  }
 },
 "nbformat": 4,
 "nbformat_minor": 2
}
